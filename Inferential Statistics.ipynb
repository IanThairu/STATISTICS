{
  "nbformat": 4,
  "nbformat_minor": 0,
  "metadata": {
    "colab": {
      "name": "ECONSTAT3.ipynb",
      "provenance": []
    },
    "kernelspec": {
      "name": "python3",
      "display_name": "Python 3"
    },
    "language_info": {
      "name": "python"
    }
  },
  "cells": [
    {
      "cell_type": "code",
      "metadata": {
        "id": "ZnGNdzcr9pE9"
      },
      "source": [
        "import numpy as np\n",
        "import pandas as pd \n",
        "import matplotlib as plt"
      ],
      "execution_count": null,
      "outputs": []
    },
    {
      "cell_type": "markdown",
      "metadata": {
        "id": "7MpP5K8-AmfE"
      },
      "source": [
        "# Values of z for Common Levels of Confidence"
      ]
    },
    {
      "cell_type": "code",
      "metadata": {
        "colab": {
          "base_uri": "https://localhost:8080/",
          "height": 542
        },
        "id": "dY1_64RiAlES",
        "outputId": "552c74fb-bb74-4a59-8f11-f50b342ec32b"
      },
      "source": [
        "import plotly.graph_objects as go\n",
        "Confidence_Level = [90, 95, 98, 99]\n",
        "z_Value = [1.645, 1.96, 2.33, 2.575]\n",
        "\n",
        "fig = go.Figure(data=[go.Table(header=dict(values=['Confidence Level', 'z Value']),\n",
        "                 cells=dict(values=[Confidence_Level, z_Value]))\n",
        "                     ])\n",
        "fig.show()"
      ],
      "execution_count": null,
      "outputs": [
        {
          "output_type": "display_data",
          "data": {
            "text/html": [
              "<html>\n",
              "<head><meta charset=\"utf-8\" /></head>\n",
              "<body>\n",
              "    <div>\n",
              "            <script src=\"https://cdnjs.cloudflare.com/ajax/libs/mathjax/2.7.5/MathJax.js?config=TeX-AMS-MML_SVG\"></script><script type=\"text/javascript\">if (window.MathJax) {MathJax.Hub.Config({SVG: {font: \"STIX-Web\"}});}</script>\n",
              "                <script type=\"text/javascript\">window.PlotlyConfig = {MathJaxConfig: 'local'};</script>\n",
              "        <script src=\"https://cdn.plot.ly/plotly-latest.min.js\"></script>    \n",
              "            <div id=\"6064785d-10f0-46c6-8a01-77db71343871\" class=\"plotly-graph-div\" style=\"height:525px; width:100%;\"></div>\n",
              "            <script type=\"text/javascript\">\n",
              "                \n",
              "                    window.PLOTLYENV=window.PLOTLYENV || {};\n",
              "                    \n",
              "                if (document.getElementById(\"6064785d-10f0-46c6-8a01-77db71343871\")) {\n",
              "                    Plotly.newPlot(\n",
              "                        '6064785d-10f0-46c6-8a01-77db71343871',\n",
              "                        [{\"cells\": {\"values\": [[90, 95, 98, 99], [1.645, 1.96, 2.33, 2.575]]}, \"header\": {\"values\": [\"Confidence Level\", \"z Value\"]}, \"type\": \"table\"}],\n",
              "                        {\"template\": {\"data\": {\"bar\": [{\"error_x\": {\"color\": \"#2a3f5f\"}, \"error_y\": {\"color\": \"#2a3f5f\"}, \"marker\": {\"line\": {\"color\": \"#E5ECF6\", \"width\": 0.5}}, \"type\": \"bar\"}], \"barpolar\": [{\"marker\": {\"line\": {\"color\": \"#E5ECF6\", \"width\": 0.5}}, \"type\": \"barpolar\"}], \"carpet\": [{\"aaxis\": {\"endlinecolor\": \"#2a3f5f\", \"gridcolor\": \"white\", \"linecolor\": \"white\", \"minorgridcolor\": \"white\", \"startlinecolor\": \"#2a3f5f\"}, \"baxis\": {\"endlinecolor\": \"#2a3f5f\", \"gridcolor\": \"white\", \"linecolor\": \"white\", \"minorgridcolor\": \"white\", \"startlinecolor\": \"#2a3f5f\"}, \"type\": \"carpet\"}], \"choropleth\": [{\"colorbar\": {\"outlinewidth\": 0, \"ticks\": \"\"}, \"type\": \"choropleth\"}], \"contour\": [{\"colorbar\": {\"outlinewidth\": 0, \"ticks\": \"\"}, \"colorscale\": [[0.0, \"#0d0887\"], [0.1111111111111111, \"#46039f\"], [0.2222222222222222, \"#7201a8\"], [0.3333333333333333, \"#9c179e\"], [0.4444444444444444, \"#bd3786\"], [0.5555555555555556, \"#d8576b\"], [0.6666666666666666, \"#ed7953\"], [0.7777777777777778, \"#fb9f3a\"], [0.8888888888888888, \"#fdca26\"], [1.0, \"#f0f921\"]], \"type\": \"contour\"}], \"contourcarpet\": [{\"colorbar\": {\"outlinewidth\": 0, \"ticks\": \"\"}, \"type\": \"contourcarpet\"}], \"heatmap\": [{\"colorbar\": {\"outlinewidth\": 0, \"ticks\": \"\"}, \"colorscale\": [[0.0, \"#0d0887\"], [0.1111111111111111, \"#46039f\"], [0.2222222222222222, \"#7201a8\"], [0.3333333333333333, \"#9c179e\"], [0.4444444444444444, \"#bd3786\"], [0.5555555555555556, \"#d8576b\"], [0.6666666666666666, \"#ed7953\"], [0.7777777777777778, \"#fb9f3a\"], [0.8888888888888888, \"#fdca26\"], [1.0, \"#f0f921\"]], \"type\": \"heatmap\"}], \"heatmapgl\": [{\"colorbar\": {\"outlinewidth\": 0, \"ticks\": \"\"}, \"colorscale\": [[0.0, \"#0d0887\"], [0.1111111111111111, \"#46039f\"], [0.2222222222222222, \"#7201a8\"], [0.3333333333333333, \"#9c179e\"], [0.4444444444444444, \"#bd3786\"], [0.5555555555555556, \"#d8576b\"], [0.6666666666666666, \"#ed7953\"], [0.7777777777777778, \"#fb9f3a\"], [0.8888888888888888, \"#fdca26\"], [1.0, \"#f0f921\"]], \"type\": \"heatmapgl\"}], \"histogram\": [{\"marker\": {\"colorbar\": {\"outlinewidth\": 0, \"ticks\": \"\"}}, \"type\": \"histogram\"}], \"histogram2d\": [{\"colorbar\": {\"outlinewidth\": 0, \"ticks\": \"\"}, \"colorscale\": [[0.0, \"#0d0887\"], [0.1111111111111111, \"#46039f\"], [0.2222222222222222, \"#7201a8\"], [0.3333333333333333, \"#9c179e\"], [0.4444444444444444, \"#bd3786\"], [0.5555555555555556, \"#d8576b\"], [0.6666666666666666, \"#ed7953\"], [0.7777777777777778, \"#fb9f3a\"], [0.8888888888888888, \"#fdca26\"], [1.0, \"#f0f921\"]], \"type\": \"histogram2d\"}], \"histogram2dcontour\": [{\"colorbar\": {\"outlinewidth\": 0, \"ticks\": \"\"}, \"colorscale\": [[0.0, \"#0d0887\"], [0.1111111111111111, \"#46039f\"], [0.2222222222222222, \"#7201a8\"], [0.3333333333333333, \"#9c179e\"], [0.4444444444444444, \"#bd3786\"], [0.5555555555555556, \"#d8576b\"], [0.6666666666666666, \"#ed7953\"], [0.7777777777777778, \"#fb9f3a\"], [0.8888888888888888, \"#fdca26\"], [1.0, \"#f0f921\"]], \"type\": \"histogram2dcontour\"}], \"mesh3d\": [{\"colorbar\": {\"outlinewidth\": 0, \"ticks\": \"\"}, \"type\": \"mesh3d\"}], \"parcoords\": [{\"line\": {\"colorbar\": {\"outlinewidth\": 0, \"ticks\": \"\"}}, \"type\": \"parcoords\"}], \"pie\": [{\"automargin\": true, \"type\": \"pie\"}], \"scatter\": [{\"marker\": {\"colorbar\": {\"outlinewidth\": 0, \"ticks\": \"\"}}, \"type\": \"scatter\"}], \"scatter3d\": [{\"line\": {\"colorbar\": {\"outlinewidth\": 0, \"ticks\": \"\"}}, \"marker\": {\"colorbar\": {\"outlinewidth\": 0, \"ticks\": \"\"}}, \"type\": \"scatter3d\"}], \"scattercarpet\": [{\"marker\": {\"colorbar\": {\"outlinewidth\": 0, \"ticks\": \"\"}}, \"type\": \"scattercarpet\"}], \"scattergeo\": [{\"marker\": {\"colorbar\": {\"outlinewidth\": 0, \"ticks\": \"\"}}, \"type\": \"scattergeo\"}], \"scattergl\": [{\"marker\": {\"colorbar\": {\"outlinewidth\": 0, \"ticks\": \"\"}}, \"type\": \"scattergl\"}], \"scattermapbox\": [{\"marker\": {\"colorbar\": {\"outlinewidth\": 0, \"ticks\": \"\"}}, \"type\": \"scattermapbox\"}], \"scatterpolar\": [{\"marker\": {\"colorbar\": {\"outlinewidth\": 0, \"ticks\": \"\"}}, \"type\": \"scatterpolar\"}], \"scatterpolargl\": [{\"marker\": {\"colorbar\": {\"outlinewidth\": 0, \"ticks\": \"\"}}, \"type\": \"scatterpolargl\"}], \"scatterternary\": [{\"marker\": {\"colorbar\": {\"outlinewidth\": 0, \"ticks\": \"\"}}, \"type\": \"scatterternary\"}], \"surface\": [{\"colorbar\": {\"outlinewidth\": 0, \"ticks\": \"\"}, \"colorscale\": [[0.0, \"#0d0887\"], [0.1111111111111111, \"#46039f\"], [0.2222222222222222, \"#7201a8\"], [0.3333333333333333, \"#9c179e\"], [0.4444444444444444, \"#bd3786\"], [0.5555555555555556, \"#d8576b\"], [0.6666666666666666, \"#ed7953\"], [0.7777777777777778, \"#fb9f3a\"], [0.8888888888888888, \"#fdca26\"], [1.0, \"#f0f921\"]], \"type\": \"surface\"}], \"table\": [{\"cells\": {\"fill\": {\"color\": \"#EBF0F8\"}, \"line\": {\"color\": \"white\"}}, \"header\": {\"fill\": {\"color\": \"#C8D4E3\"}, \"line\": {\"color\": \"white\"}}, \"type\": \"table\"}]}, \"layout\": {\"annotationdefaults\": {\"arrowcolor\": \"#2a3f5f\", \"arrowhead\": 0, \"arrowwidth\": 1}, \"coloraxis\": {\"colorbar\": {\"outlinewidth\": 0, \"ticks\": \"\"}}, \"colorscale\": {\"diverging\": [[0, \"#8e0152\"], [0.1, \"#c51b7d\"], [0.2, \"#de77ae\"], [0.3, \"#f1b6da\"], [0.4, \"#fde0ef\"], [0.5, \"#f7f7f7\"], [0.6, \"#e6f5d0\"], [0.7, \"#b8e186\"], [0.8, \"#7fbc41\"], [0.9, \"#4d9221\"], [1, \"#276419\"]], \"sequential\": [[0.0, \"#0d0887\"], [0.1111111111111111, \"#46039f\"], [0.2222222222222222, \"#7201a8\"], [0.3333333333333333, \"#9c179e\"], [0.4444444444444444, \"#bd3786\"], [0.5555555555555556, \"#d8576b\"], [0.6666666666666666, \"#ed7953\"], [0.7777777777777778, \"#fb9f3a\"], [0.8888888888888888, \"#fdca26\"], [1.0, \"#f0f921\"]], \"sequentialminus\": [[0.0, \"#0d0887\"], [0.1111111111111111, \"#46039f\"], [0.2222222222222222, \"#7201a8\"], [0.3333333333333333, \"#9c179e\"], [0.4444444444444444, \"#bd3786\"], [0.5555555555555556, \"#d8576b\"], [0.6666666666666666, \"#ed7953\"], [0.7777777777777778, \"#fb9f3a\"], [0.8888888888888888, \"#fdca26\"], [1.0, \"#f0f921\"]]}, \"colorway\": [\"#636efa\", \"#EF553B\", \"#00cc96\", \"#ab63fa\", \"#FFA15A\", \"#19d3f3\", \"#FF6692\", \"#B6E880\", \"#FF97FF\", \"#FECB52\"], \"font\": {\"color\": \"#2a3f5f\"}, \"geo\": {\"bgcolor\": \"white\", \"lakecolor\": \"white\", \"landcolor\": \"#E5ECF6\", \"showlakes\": true, \"showland\": true, \"subunitcolor\": \"white\"}, \"hoverlabel\": {\"align\": \"left\"}, \"hovermode\": \"closest\", \"mapbox\": {\"style\": \"light\"}, \"paper_bgcolor\": \"white\", \"plot_bgcolor\": \"#E5ECF6\", \"polar\": {\"angularaxis\": {\"gridcolor\": \"white\", \"linecolor\": \"white\", \"ticks\": \"\"}, \"bgcolor\": \"#E5ECF6\", \"radialaxis\": {\"gridcolor\": \"white\", \"linecolor\": \"white\", \"ticks\": \"\"}}, \"scene\": {\"xaxis\": {\"backgroundcolor\": \"#E5ECF6\", \"gridcolor\": \"white\", \"gridwidth\": 2, \"linecolor\": \"white\", \"showbackground\": true, \"ticks\": \"\", \"zerolinecolor\": \"white\"}, \"yaxis\": {\"backgroundcolor\": \"#E5ECF6\", \"gridcolor\": \"white\", \"gridwidth\": 2, \"linecolor\": \"white\", \"showbackground\": true, \"ticks\": \"\", \"zerolinecolor\": \"white\"}, \"zaxis\": {\"backgroundcolor\": \"#E5ECF6\", \"gridcolor\": \"white\", \"gridwidth\": 2, \"linecolor\": \"white\", \"showbackground\": true, \"ticks\": \"\", \"zerolinecolor\": \"white\"}}, \"shapedefaults\": {\"line\": {\"color\": \"#2a3f5f\"}}, \"ternary\": {\"aaxis\": {\"gridcolor\": \"white\", \"linecolor\": \"white\", \"ticks\": \"\"}, \"baxis\": {\"gridcolor\": \"white\", \"linecolor\": \"white\", \"ticks\": \"\"}, \"bgcolor\": \"#E5ECF6\", \"caxis\": {\"gridcolor\": \"white\", \"linecolor\": \"white\", \"ticks\": \"\"}}, \"title\": {\"x\": 0.05}, \"xaxis\": {\"automargin\": true, \"gridcolor\": \"white\", \"linecolor\": \"white\", \"ticks\": \"\", \"title\": {\"standoff\": 15}, \"zerolinecolor\": \"white\", \"zerolinewidth\": 2}, \"yaxis\": {\"automargin\": true, \"gridcolor\": \"white\", \"linecolor\": \"white\", \"ticks\": \"\", \"title\": {\"standoff\": 15}, \"zerolinecolor\": \"white\", \"zerolinewidth\": 2}}}},\n",
              "                        {\"responsive\": true}\n",
              "                    ).then(function(){\n",
              "                            \n",
              "var gd = document.getElementById('6064785d-10f0-46c6-8a01-77db71343871');\n",
              "var x = new MutationObserver(function (mutations, observer) {{\n",
              "        var display = window.getComputedStyle(gd).display;\n",
              "        if (!display || display === 'none') {{\n",
              "            console.log([gd, 'removed!']);\n",
              "            Plotly.purge(gd);\n",
              "            observer.disconnect();\n",
              "        }}\n",
              "}});\n",
              "\n",
              "// Listen for the removal of the full notebook cells\n",
              "var notebookContainer = gd.closest('#notebook-container');\n",
              "if (notebookContainer) {{\n",
              "    x.observe(notebookContainer, {childList: true});\n",
              "}}\n",
              "\n",
              "// Listen for the clearing of the current output cell\n",
              "var outputEl = gd.closest('.output');\n",
              "if (outputEl) {{\n",
              "    x.observe(outputEl, {childList: true});\n",
              "}}\n",
              "\n",
              "                        })\n",
              "                };\n",
              "                \n",
              "            </script>\n",
              "        </div>\n",
              "</body>\n",
              "</html>"
            ]
          },
          "metadata": {
            "tags": []
          }
        }
      ]
    },
    {
      "cell_type": "markdown",
      "metadata": {
        "id": "9TM0dfGu-jZ6"
      },
      "source": [
        "# ESTIMATING THE POPULATION MEAN USING THE z STATISTIC \n",
        "(VARIANCE KNOWN)"
      ]
    },
    {
      "cell_type": "code",
      "metadata": {
        "id": "078UwVnr-h4o"
      },
      "source": [
        "def zmean_interval(mean, table, std, n):\n",
        "  max = mean + (table *(std/ n**0.5))\n",
        "  min = mean - (table *(std/ n**0.5))\n",
        "  interval = (min, max)\n",
        "  return interval"
      ],
      "execution_count": null,
      "outputs": []
    },
    {
      "cell_type": "markdown",
      "metadata": {
        "id": "lc4wxqb7mYss"
      },
      "source": [
        "**EXAMPLE 1**\n",
        "\n",
        "A survey was taken of U.S. companies that do business with firms in India. One of\n",
        "the questions on the survey was: Approximately how many years has your company\n",
        "been trading with firms in India? A random sample of 44 responses to this question\n",
        "yielded a mean of 10.455 years. Suppose the population standard deviation for this\n",
        "question is 7.7 years. Using this information, construct a 90% confidence interval for\n",
        "the mean number of years that a company has been trading in India for the population\n",
        "of U.S. companies trading with firms in India."
      ]
    },
    {
      "cell_type": "markdown",
      "metadata": {
        "id": "fGWUxXmQoDdw"
      },
      "source": [
        "**Solution**\n",
        "\n",
        "n= 44    sample mean = 10.455 standard deviation = 7.7 alpha = 0.10\n",
        "table value: 0.1/2 = 0.05   1-0.05= 0.95 check area to left of curve z =  1.645"
      ]
    },
    {
      "cell_type": "code",
      "metadata": {
        "colab": {
          "base_uri": "https://localhost:8080/"
        },
        "id": "DLeqFHltmbPW",
        "outputId": "8f459e65-630a-4148-fc4a-6a6c5880047d"
      },
      "source": [
        "zmean_interval(10.455,1.645,7.7,44)"
      ],
      "execution_count": null,
      "outputs": [
        {
          "output_type": "execute_result",
          "data": {
            "text/plain": [
              "(8.545453276952879, 12.364546723047122)"
            ]
          },
          "metadata": {
            "tags": []
          },
          "execution_count": 4
        }
      ]
    },
    {
      "cell_type": "markdown",
      "metadata": {
        "id": "quMdKJ-3-e-C"
      },
      "source": [
        "# Finite Correction Factor"
      ]
    },
    {
      "cell_type": "code",
      "metadata": {
        "id": "0RBfvOKC-oFj"
      },
      "source": [
        "def fin_factor(mean, table, N, n, std):\n",
        "  max = mean + table * (std/n**0.5) * ((N-n)/(N-1))**0.5\n",
        "  min = mean - table * (std/n**0.5) * ((N-n)/(N-1))**0.5\n",
        "  return (min, max)\n"
      ],
      "execution_count": null,
      "outputs": []
    },
    {
      "cell_type": "markdown",
      "metadata": {
        "id": "UrZ4aUil_Z2H"
      },
      "source": [
        "**Example**\n",
        "\n",
        "A study is conducted in a company that employs 800 engineers. A random sample\n",
        "of 50 engineers reveals that the average sample age is 34.3 years. Historically, the population standard deviation of the age of the company’s engineers is approximately 8 years. Construct a 98% confidence interval to estimate the average age of all the engineers in this company."
      ]
    },
    {
      "cell_type": "markdown",
      "metadata": {
        "id": "xa67Ky5b_vCg"
      },
      "source": [
        "**Solution**\n",
        "\n",
        "This problem has a finite population. The sample size, 50, is greater than 5% of the population, so the finite correction factor may be helpful.\n",
        "\n",
        "N = 800 n = 50 mean = 34.3 std = 8 alpha = 0.02 \n",
        "table value: z(0.01) = 2.33\n"
      ]
    },
    {
      "cell_type": "code",
      "metadata": {
        "colab": {
          "base_uri": "https://localhost:8080/"
        },
        "id": "TnCSMsGDAOu9",
        "outputId": "67f9a771-92c1-4986-ad73-8a2bcd565191"
      },
      "source": [
        "fin_factor(34.3, 2.33, 800, 50, 8)"
      ],
      "execution_count": null,
      "outputs": [
        {
          "output_type": "execute_result",
          "data": {
            "text/plain": [
              "(31.746016142978302, 36.85398385702169)"
            ]
          },
          "metadata": {
            "tags": []
          },
          "execution_count": 4
        }
      ]
    },
    {
      "cell_type": "markdown",
      "metadata": {
        "id": "d0IgdtVfAkqb"
      },
      "source": [
        "# ESTIMATING THE POPULATION MEAN USING THE t STATISTIC (VARIANCE UNKNOWN)"
      ]
    },
    {
      "cell_type": "code",
      "metadata": {
        "id": "RJS6cLyVAbSF"
      },
      "source": [
        "def tmean_interval(mean, table, std, n):\n",
        "  max = mean + (table *(std/ n**0.5))\n",
        "  min = mean - (table *(std/ n**0.5))\n",
        "  interval = (min, max)\n",
        "  return interval"
      ],
      "execution_count": null,
      "outputs": []
    },
    {
      "cell_type": "markdown",
      "metadata": {
        "id": "7wJO8jY1puAh"
      },
      "source": [
        "**Example 2**\n",
        "\n",
        "The owner of a large equipment rental company wants to make a\n",
        "rather quick estimate of the average number of days a piece of\n",
        "ditchdigging equipment is rented out per person per time. The company\n",
        "has records of all rentals, but the amount of time required to\n",
        "conduct an audit of all accounts would be prohibitive. The owner decides to take a random sample of rental invoices. Fourteen different rentals of\n",
        "ditchdiggers are selected randomly from the files, yielding the following data. She uses these data to construct a 99% confidence interval to estimate the average number of days that a ditchdigger is rented and assumes that the number of days per rental is normally distributed in the population.\n",
        "3 1 3 2 5 1 2 1 4 2 1 3 1 1"
      ]
    },
    {
      "cell_type": "code",
      "metadata": {
        "colab": {
          "base_uri": "https://localhost:8080/"
        },
        "id": "huN6zXB3qgYi",
        "outputId": "76067a71-2f1b-4d96-ff16-55b7f0341c06"
      },
      "source": [
        "data = np.array([3, 1, 3, 2, 5, 1, 2, 1, 4, 2, 1, 3, 1, 1])\n",
        "mean = np.mean(data)\n",
        "std = np.std(data)\n",
        "print(mean)\n",
        "print(std)"
      ],
      "execution_count": null,
      "outputs": [
        {
          "output_type": "stream",
          "text": [
            "2.142857142857143\n",
            "1.2453996981544784\n"
          ],
          "name": "stdout"
        }
      ]
    },
    {
      "cell_type": "markdown",
      "metadata": {
        "id": "b7R83fdaqIeI"
      },
      "source": [
        "**Solution**\n",
        " \n",
        "n = 14 mean = 2.1429 std = 1.2454 alpha=0.01 df=13\n",
        "table value: 0.01/2=0.005  t(0.005,13) = 3.012"
      ]
    },
    {
      "cell_type": "code",
      "metadata": {
        "colab": {
          "base_uri": "https://localhost:8080/"
        },
        "id": "Vr-0dO1WsdYh",
        "outputId": "e3217f07-fc72-4a62-c1d0-4f7d7215dd45"
      },
      "source": [
        "tmean_interval(20.6 , 2.262, 2.65, 10)"
      ],
      "execution_count": null,
      "outputs": [
        {
          "output_type": "execute_result",
          "data": {
            "text/plain": [
              "(18.70443590216527, 22.495564097834734)"
            ]
          },
          "metadata": {
            "tags": []
          },
          "execution_count": 4
        }
      ]
    },
    {
      "cell_type": "markdown",
      "metadata": {
        "id": "Gg7P9wPPBN5x"
      },
      "source": [
        "# ESTIMATING THE POPULATION PROPORTION"
      ]
    },
    {
      "cell_type": "code",
      "metadata": {
        "id": "UDqwXzpWBYAt"
      },
      "source": [
        "def prop_interval(p,q, table, n):\n",
        "  max = p + (table * ((p*q)/n)**0.5)\n",
        "  min = p - (table * ((p*q)/n)**0.5)\n",
        "  interval = (min, max)\n",
        "  return interval"
      ],
      "execution_count": null,
      "outputs": []
    },
    {
      "cell_type": "markdown",
      "metadata": {
        "id": "gWV_wJpptd5O"
      },
      "source": [
        "**Example 3**\n",
        "\n",
        "Coopers & Lybrand surveyed 210 chief executives of fast-growing small companies.\n",
        "Only 51% of these executives had a management succession plan in place. A\n",
        "spokesperson for Cooper & Lybrand said that many companies do not worry about\n",
        "management succession unless it is an immediate problem. However, the unexpected\n",
        "exit of a corporate leader can disrupt and unfocus a company for long enough\n",
        "to cause it to lose its momentum.Use the data given to compute a 92% confidence interval to estimate the proportion of all fast-growing small companies that have a management succession plan."
      ]
    },
    {
      "cell_type": "markdown",
      "metadata": {
        "id": "eBZip7H2t1ZI"
      },
      "source": [
        "**Solution**\n",
        "\n",
        "p = 0.51  q= 0.49 n = 210 alpha = 0.08 \n",
        "table value = z(0.08/2) = z(0.04) = 1.75 "
      ]
    },
    {
      "cell_type": "code",
      "metadata": {
        "colab": {
          "base_uri": "https://localhost:8080/"
        },
        "id": "6R7jDcxhu42d",
        "outputId": "6cc3d326-e741-4f87-c680-ca34e378a05c"
      },
      "source": [
        "prop_interval(0.51, 0.49, 1.75, 210)"
      ],
      "execution_count": null,
      "outputs": [
        {
          "output_type": "execute_result",
          "data": {
            "text/plain": [
              "(0.4496313409126888, 0.5703686590873112)"
            ]
          },
          "metadata": {
            "tags": []
          },
          "execution_count": 14
        }
      ]
    },
    {
      "cell_type": "markdown",
      "metadata": {
        "id": "CbBkZHFHCbrd"
      },
      "source": [
        "# ESTIMATING THE POPULATION VARIANCE"
      ]
    },
    {
      "cell_type": "code",
      "metadata": {
        "id": "lFZW7NxvCQNa"
      },
      "source": [
        "def var_interval(n, s, table1, table2):\n",
        "  max = ((n-1)*s**2)/table2\n",
        "  min = ((n-1)*s**2)/table1\n",
        "  interval = (min, max)\n",
        "  return interval"
      ],
      "execution_count": null,
      "outputs": []
    },
    {
      "cell_type": "markdown",
      "metadata": {
        "id": "Ju6LXQbPvmEc"
      },
      "source": [
        "**Example 4**\n",
        "\n",
        "The U.S. Bureau of Labor Statistics publishes data on the hourly compensation\n",
        "costs for production workers in manufacturing for various countries. The latest\n",
        "figures published for Greece show that the average hourly wage for a production worker in manufacturing is 16.10. Suppose the business council of Greece wants\n",
        "to know how consistent this figure is. They randomly select 25 production workers in manufacturing from across the country and determine that the standard deviation of hourly wages for such workers is 1.12. Use this information to develop a 95% confidence interval to estimate the population variance for the hourly wages of production workers in manufacturing in Greece. Assume that the hourly wages for production workers across the country in manufacturing are normally distributed."
      ]
    },
    {
      "cell_type": "markdown",
      "metadata": {
        "id": "eoO4zolZv-vF"
      },
      "source": [
        "**Solution**\n",
        "\n",
        "n = 25 df = 24 alpha = 0.05 sample std = 1.12 \n",
        "table1 value: X(0.025, 24) = 39.36\n",
        "table2 value: X(0.975, 24) = 12.40"
      ]
    },
    {
      "cell_type": "code",
      "metadata": {
        "colab": {
          "base_uri": "https://localhost:8080/"
        },
        "id": "Ow__uCg3x0Qk",
        "outputId": "79b0bb22-1f48-42b8-9546-3984cf7e45f8"
      },
      "source": [
        "var_interval(25, 1.12, 39.36, 12.40)"
      ],
      "execution_count": null,
      "outputs": [
        {
          "output_type": "execute_result",
          "data": {
            "text/plain": [
              "(0.7648780487804879, 2.4278709677419354)"
            ]
          },
          "metadata": {
            "tags": []
          },
          "execution_count": 20
        }
      ]
    },
    {
      "cell_type": "markdown",
      "metadata": {
        "id": "ByjX0t2JDarN"
      },
      "source": [
        "# ESTIMATING SAMPLE SIZE"
      ]
    },
    {
      "cell_type": "code",
      "metadata": {
        "id": "Yxrf7rLBDkbe"
      },
      "source": [
        "def sample_size(table, var, err):\n",
        "  n = (table**2 * var**2)/err**2\n",
        "  return n"
      ],
      "execution_count": null,
      "outputs": []
    },
    {
      "cell_type": "markdown",
      "metadata": {
        "id": "OX8YXMBDzTD0"
      },
      "source": [
        "**Example 5:**\n",
        "**Sample Size when Estimating mean**\n",
        "\n",
        "Suppose you want to estimate the average age of all Boeing 737-300 airplanes\n",
        "now in active domestic U.S. service. You want to be 95% confident, and you want\n",
        "your estimate to be within one year of the actual figure. The 737-300 was first\n",
        "placed in service about 24 years ago, but you believe that no active 737-300s in\n",
        "the U.S. domestic fleet are more than 20 years old. How large of a sample should\n",
        "you take?"
      ]
    },
    {
      "cell_type": "markdown",
      "metadata": {
        "id": "7S6zSR0Y0s46"
      },
      "source": [
        "**Solution**\n",
        "\n",
        "alpha = 0.05  E = 1 std = 1/4 * range = 1/4 * (20) = 5\n",
        "table = z(0.025) = 1.96"
      ]
    },
    {
      "cell_type": "code",
      "metadata": {
        "colab": {
          "base_uri": "https://localhost:8080/"
        },
        "id": "6Kd3rvkM1Sj5",
        "outputId": "4a900098-7180-4a24-a60d-0cd1e5c4df3e"
      },
      "source": [
        "sample_size(1.96, 5, 1)"
      ],
      "execution_count": null,
      "outputs": [
        {
          "output_type": "execute_result",
          "data": {
            "text/plain": [
              "96.03999999999999"
            ]
          },
          "metadata": {
            "tags": []
          },
          "execution_count": 23
        }
      ]
    },
    {
      "cell_type": "markdown",
      "metadata": {
        "id": "1VE75VKi1xEF"
      },
      "source": [
        "**Example 6: Determining Sample Size when Estimating p**\n",
        "\n",
        "Hewitt Associates conducted a national survey to determine the extent to which\n",
        "employers are promoting health and fitness among their employees. One of the\n",
        "questions asked was, Does your company offer on-site exercise classes? Suppose it was estimated before the study that no more than 40% of the companies would\n",
        "answer Yes. How large a sample would Hewitt Associates have to take in estimating the population proportion to ensure a 98% confidence in the results and to be within .03 of the true population proportion?"
      ]
    },
    {
      "cell_type": "code",
      "metadata": {
        "id": "B4vwYnGm2gmT"
      },
      "source": [
        "def sample_size_p(p, q, table, err):\n",
        "  n = (table**2 * p * q)/err**2\n",
        "  return n\n"
      ],
      "execution_count": null,
      "outputs": []
    },
    {
      "cell_type": "markdown",
      "metadata": {
        "id": "TxoZKg3z5G25"
      },
      "source": [
        "**Solution**\n",
        "\n",
        "alpha = 0.02 err = 0.03 q = 0.60 p = 0.40 \n",
        "table value: z(0.01) = 2.33"
      ]
    },
    {
      "cell_type": "code",
      "metadata": {
        "colab": {
          "base_uri": "https://localhost:8080/"
        },
        "id": "b_pPw5_958d4",
        "outputId": "95f0c3e5-db1b-4f41-ec7b-fff780ae83e5"
      },
      "source": [
        "sample_size_p(0.4, 0.6, 2.33, 0.03)"
      ],
      "execution_count": null,
      "outputs": [
        {
          "output_type": "execute_result",
          "data": {
            "text/plain": [
              "1447.7066666666667"
            ]
          },
          "metadata": {
            "tags": []
          },
          "execution_count": 26
        }
      ]
    },
    {
      "cell_type": "markdown",
      "metadata": {
        "id": "fg3UQ7qwB9ME"
      },
      "source": [
        "# TESTING HYPOTHESES ABOUT A POPULATION MEAN USING THE z STATISTIC (VARIANCE KNOWN)"
      ]
    },
    {
      "cell_type": "code",
      "metadata": {
        "id": "8fO6rHveCM_2"
      },
      "source": [
        "def var_known(mean, mu, std, n):\n",
        "  z = (mean - mu )/ (std/n**0.5)\n",
        "  return z"
      ],
      "execution_count": null,
      "outputs": []
    },
    {
      "cell_type": "markdown",
      "metadata": {
        "id": "aYoSn_8LCyd7"
      },
      "source": [
        "**Example**\n",
        "\n",
        "A survey of CPAs across the United States found that the average net income for sole proprietor CPAs is 74,914. Because this survey is now more than ten years old, an accounting researcher wants to test this figure by taking a random sample of 112 sole proprietor accountants in the United States to determine whether the net income figure changed. The researcher could use the eight steps of hypothesis testing to do so.Assume the population standard deviation of net incomes for sole proprietor CPAs is 14,530. Suppose the 112 CPAs who respond produce a sample mean of 78,695."
      ]
    },
    {
      "cell_type": "markdown",
      "metadata": {
        "id": "n9EMaObvDGIP"
      },
      "source": [
        "**Solution**\n",
        "\n",
        "H0: mu = 74,914   Ha: mu =! 74,914   n = 112 std = 14530 mean = 78695"
      ]
    },
    {
      "cell_type": "code",
      "metadata": {
        "colab": {
          "base_uri": "https://localhost:8080/"
        },
        "id": "GhGTgpSdEKe1",
        "outputId": "f8208033-887b-44ad-df35-0eccad337568"
      },
      "source": [
        "var_known(78695, 74914, 14530, 112)"
      ],
      "execution_count": null,
      "outputs": [
        {
          "output_type": "execute_result",
          "data": {
            "text/plain": [
              "2.753912101069571"
            ]
          },
          "metadata": {
            "tags": []
          },
          "execution_count": 7
        }
      ]
    },
    {
      "cell_type": "markdown",
      "metadata": {
        "id": "U7PvHzM0EaCj"
      },
      "source": [
        "Compare critical value of 2.75 to the observed value at 95% significance level.\n",
        "z = 1.96\n",
        "2.75 > 1.96, hence we reject the null hypothesis."
      ]
    },
    {
      "cell_type": "markdown",
      "metadata": {
        "id": "V7WSbVXIEwmJ"
      },
      "source": [
        "# Testing the Mean with a Finite Population"
      ]
    },
    {
      "cell_type": "code",
      "metadata": {
        "id": "6yUog7KAE_CX"
      },
      "source": [
        "def fin_pop(mean, mu, N, n, std):\n",
        "  z = (mean - mu)/ ((std/n**0.5)*((N-n)/(N-1))**0.5)\n",
        "  return z "
      ],
      "execution_count": null,
      "outputs": []
    },
    {
      "cell_type": "markdown",
      "metadata": {
        "id": "o8T-m3M-FhSH"
      },
      "source": [
        "**Example**\n",
        "\n",
        "In the CPA net income example, suppose only 600 sole proprietor CPAs practice in the United States. A sample of 112 CPAs taken from a population of only 600 CPAs is 18.67% of the population and therefore is much more likely to be representative of the population than a sample of 112 CPAs taken from a population of 20,000 CPAs (.56% of the population)."
      ]
    },
    {
      "cell_type": "markdown",
      "metadata": {
        "id": "iVg7TJTwFzo8"
      },
      "source": [
        "**Solution**\n",
        "\n",
        "N = 600 n = 112 mean = 78695 mu = 74914 std = 14530"
      ]
    },
    {
      "cell_type": "code",
      "metadata": {
        "colab": {
          "base_uri": "https://localhost:8080/"
        },
        "id": "aDT3bXk9GPxL",
        "outputId": "b67db9ef-6fba-4f1a-ad62-c2fee6dc4124"
      },
      "source": [
        "fin_pop(78695, 74914, 600, 112, 14530)"
      ],
      "execution_count": null,
      "outputs": [
        {
          "output_type": "execute_result",
          "data": {
            "text/plain": [
              "3.0510798559992653"
            ]
          },
          "metadata": {
            "tags": []
          },
          "execution_count": 9
        }
      ]
    },
    {
      "cell_type": "markdown",
      "metadata": {
        "id": "d2c9WHsRIv3u"
      },
      "source": [
        "# TESTING HYPOTHESES ABOUT A POPULATION MEAN USING THE t STATISTIC (VARIANCE UNKNOWN)"
      ]
    },
    {
      "cell_type": "code",
      "metadata": {
        "id": "MivgF0RpI413"
      },
      "source": [
        "def var_unknown(mean, mu, std, n):\n",
        "  t = (mean - mu)/ (std/n**0.5)\n",
        "  return t"
      ],
      "execution_count": null,
      "outputs": []
    },
    {
      "cell_type": "markdown",
      "metadata": {
        "id": "xF8aLAp2JJC3"
      },
      "source": [
        "**Example**\n",
        "\n",
        "The U.S. Farmers’ Production Company builds large harvesters. For a harvester to be properly balanced when operating, a 25-pound plate is installed on its side. The machine that produces these plates is set to yield plates that average 25 pounds. The distribution of plates produced from the machine is normal. However, the shop supervisor is worried that the machine is out of adjustment and is producing plates that do not average 25 pounds. To test this concern, he randomly selects 20 of the plates produced the day before and\n",
        "weighs them. sample mean = 25.51, sample std = 2.1933"
      ]
    },
    {
      "cell_type": "markdown",
      "metadata": {
        "id": "ruG9HXd-JpqZ"
      },
      "source": [
        "**Solution**\n",
        "\n",
        "H0: mu = 25 pounds   n = 20 df = 19"
      ]
    },
    {
      "cell_type": "code",
      "metadata": {
        "colab": {
          "base_uri": "https://localhost:8080/"
        },
        "id": "Sh3AoUATJzee",
        "outputId": "57891605-965b-41cd-83d6-6d672f3c7088"
      },
      "source": [
        "var_unknown(25.51, 25, 2.1933, 20)"
      ],
      "execution_count": null,
      "outputs": [
        {
          "output_type": "execute_result",
          "data": {
            "text/plain": [
              "1.0398893617151292"
            ]
          },
          "metadata": {
            "tags": []
          },
          "execution_count": 11
        }
      ]
    },
    {
      "cell_type": "markdown",
      "metadata": {
        "id": "N43QTLmPJ8Q9"
      },
      "source": [
        "Compare the critical value 1.0399 with table value t(0.025, 19) = 2.093\n",
        "\n",
        "1.0399 < 2.093, hence we don't reject the null hypothesis"
      ]
    },
    {
      "cell_type": "markdown",
      "metadata": {
        "id": "DVRty4beKdG3"
      },
      "source": [
        "# TESTING HYPOTHESES ABOUT A PROPORTION"
      ]
    },
    {
      "cell_type": "code",
      "metadata": {
        "id": "Wy12alFlKnRo"
      },
      "source": [
        "def prop_test(prop, p, q, n):\n",
        "  z = (prop - p)/ (p*q/n)**0.5\n",
        "  return z  "
      ],
      "execution_count": null,
      "outputs": []
    },
    {
      "cell_type": "markdown",
      "metadata": {
        "id": "b0563KZULLl2"
      },
      "source": [
        "**Example**\n",
        "\n",
        "A manufacturer believes exactly 8% of its products contain at least one minor flaw. The business researcher randomly selects a sample of 200 products, inspects each item for flaws, and determines that 33 items have at least\n",
        "one minor flaw. \n",
        "H0: p = .08 "
      ]
    },
    {
      "cell_type": "markdown",
      "metadata": {
        "id": "35rKsadfL00P"
      },
      "source": [
        "**Solution**\n",
        "\n",
        "prop = 33/200 = 0.165\n",
        "p = 0.08 q = 0.92 n = 200 alpha = 0.05\n",
        "table value = 1.96\n",
        "\n"
      ]
    },
    {
      "cell_type": "code",
      "metadata": {
        "colab": {
          "base_uri": "https://localhost:8080/"
        },
        "id": "8Fhb3E1-MVFg",
        "outputId": "d1a257e3-db9f-4f63-939f-2b080ef2934d"
      },
      "source": [
        "prop_test(0.165, 0.08, 0.92, 200)"
      ],
      "execution_count": null,
      "outputs": [
        {
          "output_type": "execute_result",
          "data": {
            "text/plain": [
              "4.430931298712839"
            ]
          },
          "metadata": {
            "tags": []
          },
          "execution_count": 14
        }
      ]
    },
    {
      "cell_type": "markdown",
      "metadata": {
        "id": "xc6eDkSLM_w-"
      },
      "source": [
        "4.4309 > 1.96, hence we reject the null hypothesis"
      ]
    },
    {
      "cell_type": "markdown",
      "metadata": {
        "id": "GiHQ7_GTNUAm"
      },
      "source": [
        "# TESTING HYPOTHESES ABOUT A VARIANCE"
      ]
    },
    {
      "cell_type": "code",
      "metadata": {
        "id": "rDGQMAqjNbNJ"
      },
      "source": [
        "def var_test(n, std, sigma):\n",
        "  chi = (n - 1) * std**2/ sigma**2\n",
        "  return chi"
      ],
      "execution_count": null,
      "outputs": []
    },
    {
      "cell_type": "markdown",
      "metadata": {
        "id": "qZC1jaUhPP3W"
      },
      "source": [
        "**Example**\n",
        "\n",
        "A manufacturing firm has been working diligently to implement a\n",
        "just-in-time inventory system for its production line. The final product requires the installation of a pneumatic tube at a particular station on the assembly line.With the justin-time inventory system, the company’s goal is to minimize the number of pneumatic tubes that are piled up at the station waiting to be installed. Ideally, the tubes would arrive just as the operator needs them. However, because of the supplier and the variables involved in getting the tubes to the line, most of the time there will be some buildup of\n",
        "tube inventory. The company expects that, on the average, about 20 pneumatic tubes will be at the station. However, the production superintendent does not want the variance of this inventory to be greater than 4. On a given day, the number of pneumatic tubes piled up at the workstation is determined eight different times and the following number of tubes are recorded.\n",
        "23 17 20 29 21 14 19 24\n",
        "\n",
        "H0: variance = 4"
      ]
    },
    {
      "cell_type": "markdown",
      "metadata": {
        "id": "n-hClrxRPsG8"
      },
      "source": [
        "**Solution**\n",
        "\n",
        "n = 8 df = 7 std = "
      ]
    },
    {
      "cell_type": "markdown",
      "metadata": {
        "id": "3zzhhlEnTHCR"
      },
      "source": [
        "# HYPOTHESIS TESTING AND CONFIDENCE INTERVALS ABOUT THE DIFFERENCE IN TWO MEANS USING THE z STATISTIC (POPULATION VARIANCES KNOWN)"
      ]
    },
    {
      "cell_type": "code",
      "metadata": {
        "id": "ux9wzEI-UZwK"
      },
      "source": [
        "def two_means(mean1, mean2, var1, var2, n1, n2):\n",
        "  z = (mean1 - mean2)/ (var1/ n1 + var2/n2)**0.5\n",
        "  return z"
      ],
      "execution_count": null,
      "outputs": []
    },
    {
      "cell_type": "markdown",
      "metadata": {
        "id": "72FLi29gZLZm"
      },
      "source": [
        "**Example**\n",
        "\n",
        "A sample of 87 professional working women showed that the average amount paid\n",
        "annually into a private pension fund per person was 3352. The population standard deviation is 1100. A sample of 76 professional working men showed that the average amount paid annually into a private pension fund per person was  5727, with a population standard deviation of 1700. A women’s activist group wants to “prove” that women do not pay as much per year as men into private pension funds. If they use alpha = .001 and these sample data, will they be able to reject a null hypothesis that women annually pay the same as or more than men into private pension funds? Use the eight-step hypothesis-testing process."
      ]
    },
    {
      "cell_type": "markdown",
      "metadata": {
        "id": "QIjnqhnoZe3e"
      },
      "source": [
        "**Solution**\n",
        "\n",
        "mean1 = 3352 mean2 = 5727 n1 = 87 n2=76 var1 = (1100)^2 var2 = (1700)^2 \n",
        "alpha =0.001"
      ]
    },
    {
      "cell_type": "code",
      "metadata": {
        "colab": {
          "base_uri": "https://localhost:8080/"
        },
        "id": "6Y0YaLzTaIc4",
        "outputId": "40d953bd-c9b7-44e8-e9e9-979dfc3ae63f"
      },
      "source": [
        "two_means(3352, 5727, 1100**2, 1700**2, 87, 76)"
      ],
      "execution_count": null,
      "outputs": [
        {
          "output_type": "execute_result",
          "data": {
            "text/plain": [
              "-10.42164353961526"
            ]
          },
          "metadata": {
            "tags": []
          },
          "execution_count": 18
        }
      ]
    },
    {
      "cell_type": "markdown",
      "metadata": {
        "id": "IKrGz4KHaktE"
      },
      "source": [
        "# HYPOTHESIS TESTING AND CONFIDENCE INTERVALS ABOUT THE DIFFERENCE IN TWO MEANS: INDEPENDENT SAMPLES AND POPULATION VARIANCES UNKNOWN"
      ]
    },
    {
      "cell_type": "code",
      "metadata": {
        "id": "XuIx2NkJarQ_"
      },
      "source": [
        "def two_means_unknown(mean1, mean2, var1, var2, n1, n2):\n",
        "  t = (mean1 - mean2) / (((var1*(n1-1) + var2*(n2-1))/(n1+n2-2))**0.5 * (1/n1 + 1/n2)**0.5)\n",
        "  return t"
      ],
      "execution_count": null,
      "outputs": []
    },
    {
      "cell_type": "markdown",
      "metadata": {
        "id": "CkglgKbTbvog"
      },
      "source": [
        "**Example**\n",
        "\n",
        "mean1 = 47.73   mean2 = 56.5 var1 = 19.495 var2 = 18.273 n1 = 15 n2 = 12\n"
      ]
    },
    {
      "cell_type": "code",
      "metadata": {
        "colab": {
          "base_uri": "https://localhost:8080/"
        },
        "id": "iLhusWp7cUWV",
        "outputId": "8e192fb7-7506-4340-f663-6d99a5a70c01"
      },
      "source": [
        "two_means_unknown(47.73, 56.5, 19.495, 18.273, 15, 12)"
      ],
      "execution_count": null,
      "outputs": [
        {
          "output_type": "execute_result",
          "data": {
            "text/plain": [
              "-5.200744198869119"
            ]
          },
          "metadata": {
            "tags": []
          },
          "execution_count": 22
        }
      ]
    },
    {
      "cell_type": "markdown",
      "metadata": {
        "id": "ACAXT2TzcwXt"
      },
      "source": [
        "# STATISTICAL INFERENCES ABOUT TWO POPULATION PROPORTIONS, p1-p2"
      ]
    },
    {
      "cell_type": "code",
      "metadata": {
        "id": "z9XR4zORc-C-"
      },
      "source": [
        "def two_ps(p1, p2, n1, n2):\n",
        "  p_mean = (n1*p1 + n2 * p2)/(n1+n2)\n",
        "  q_mean = 1 - p_mean\n",
        "  z = (p1-p2)/ ((p_mean*q_mean) * (1/n1 + 1/n2))**0.5\n",
        "  return z"
      ],
      "execution_count": null,
      "outputs": []
    },
    {
      "cell_type": "markdown",
      "metadata": {
        "id": "cOV6Cpy3fFIs"
      },
      "source": [
        "**Example**\n",
        "\n",
        "A study of female entrepreneurs was conducted to determine their definition of success. The women were offered optional choices such as happiness/self-fulfillment, sales/profit, and achievement/challenge. The women were divided into groups according to the gross sales of their businesses. A significantly higher proportion of female entrepreneurs in the 100,000 to 500,000 category than in the less than 100,000 category seemed to rate sales/profit as a definition of success.Suppose you decide to test this result by taking a survey of your own and identify female entrepreneurs by gross sales. You interview 100 female entrepreneurs with gross sales of less than 100,000, and 24 of them define sales/profit as success. You then interview 95 female entrepreneurs with gross sales of 100,000 to 500,000, and 39 cite sales/profit as a definition of success. Use this information to test to determine whether there is a significant difference in the proportions of the two groups that define success as sales/profit. Use a = .01."
      ]
    },
    {
      "cell_type": "markdown",
      "metadata": {
        "id": "TZhd9s7TfcuV"
      },
      "source": [
        "**Solution**\n",
        "\n",
        "n1 = 100 n2 = 95 p1 = 0.24 p2 = 0.41 "
      ]
    },
    {
      "cell_type": "code",
      "metadata": {
        "colab": {
          "base_uri": "https://localhost:8080/"
        },
        "id": "91A2ZPLUfyQk",
        "outputId": "bd602b60-0e1f-4041-9637-e6bd0ad30339"
      },
      "source": [
        "two_ps(0.24, 0.41, 100, 95)"
      ],
      "execution_count": null,
      "outputs": [
        {
          "output_type": "execute_result",
          "data": {
            "text/plain": [
              "-2.537820841887076"
            ]
          },
          "metadata": {
            "tags": []
          },
          "execution_count": 24
        }
      ]
    },
    {
      "cell_type": "markdown",
      "metadata": {
        "id": "F_QNQpEFf9J0"
      },
      "source": [
        "# TESTING HYPOTHESES ABOUT TWO POPULATION VARIANCES"
      ]
    },
    {
      "cell_type": "code",
      "metadata": {
        "id": "qu61sxXmgDhM"
      },
      "source": [
        "def two_var(var1, var2):\n",
        "  f = var1/var2\n",
        "  return f"
      ],
      "execution_count": null,
      "outputs": []
    },
    {
      "cell_type": "code",
      "metadata": {
        "id": "G2VOnFbwgA9M"
      },
      "source": [
        ""
      ],
      "execution_count": null,
      "outputs": []
    },
    {
      "cell_type": "markdown",
      "metadata": {
        "id": "p6HeQB2aH7t7"
      },
      "source": [
        "# ONE WAY ANOVA"
      ]
    },
    {
      "cell_type": "code",
      "metadata": {
        "colab": {
          "base_uri": "https://localhost:8080/",
          "height": 542
        },
        "id": "OEeM6V8xEPIJ",
        "outputId": "a17b9782-7ae2-4404-bf45-915654cbeedb"
      },
      "source": [
        "import plotly.graph_objects as go\n",
        "group1 = [29, 27, 30, 27, 28]\n",
        "group2 = [32, 33, 31, 34, 30]\n",
        "group3 = [25, 24, 24, 25, 26]\n",
        "fig = go.Figure(data=[go.Table(header=dict(values=['Group 1 - Location 1', 'Group 2 - Location 2', 'Group 3 - Location 3']),\n",
        "                 cells=dict(values=[group1, group2, group3]))\n",
        "                     ])\n",
        "fig.show()"
      ],
      "execution_count": null,
      "outputs": [
        {
          "output_type": "display_data",
          "data": {
            "text/html": [
              "<html>\n",
              "<head><meta charset=\"utf-8\" /></head>\n",
              "<body>\n",
              "    <div>\n",
              "            <script src=\"https://cdnjs.cloudflare.com/ajax/libs/mathjax/2.7.5/MathJax.js?config=TeX-AMS-MML_SVG\"></script><script type=\"text/javascript\">if (window.MathJax) {MathJax.Hub.Config({SVG: {font: \"STIX-Web\"}});}</script>\n",
              "                <script type=\"text/javascript\">window.PlotlyConfig = {MathJaxConfig: 'local'};</script>\n",
              "        <script src=\"https://cdn.plot.ly/plotly-latest.min.js\"></script>    \n",
              "            <div id=\"e56f6437-26f9-4037-9612-225af44e4229\" class=\"plotly-graph-div\" style=\"height:525px; width:100%;\"></div>\n",
              "            <script type=\"text/javascript\">\n",
              "                \n",
              "                    window.PLOTLYENV=window.PLOTLYENV || {};\n",
              "                    \n",
              "                if (document.getElementById(\"e56f6437-26f9-4037-9612-225af44e4229\")) {\n",
              "                    Plotly.newPlot(\n",
              "                        'e56f6437-26f9-4037-9612-225af44e4229',\n",
              "                        [{\"cells\": {\"values\": [[29, 27, 30, 27, 28], [32, 33, 31, 34, 30], [25, 24, 24, 25, 26]]}, \"header\": {\"values\": [\"Group 1 - Location 1\", \"Group 2 - Location 2\", \"Group 3 - Location 3\"]}, \"type\": \"table\"}],\n",
              "                        {\"template\": {\"data\": {\"bar\": [{\"error_x\": {\"color\": \"#2a3f5f\"}, \"error_y\": {\"color\": \"#2a3f5f\"}, \"marker\": {\"line\": {\"color\": \"#E5ECF6\", \"width\": 0.5}}, \"type\": \"bar\"}], \"barpolar\": [{\"marker\": {\"line\": {\"color\": \"#E5ECF6\", \"width\": 0.5}}, \"type\": \"barpolar\"}], \"carpet\": [{\"aaxis\": {\"endlinecolor\": \"#2a3f5f\", \"gridcolor\": \"white\", \"linecolor\": \"white\", \"minorgridcolor\": \"white\", \"startlinecolor\": \"#2a3f5f\"}, \"baxis\": {\"endlinecolor\": \"#2a3f5f\", \"gridcolor\": \"white\", \"linecolor\": \"white\", \"minorgridcolor\": \"white\", \"startlinecolor\": \"#2a3f5f\"}, \"type\": \"carpet\"}], \"choropleth\": [{\"colorbar\": {\"outlinewidth\": 0, \"ticks\": \"\"}, \"type\": \"choropleth\"}], \"contour\": [{\"colorbar\": {\"outlinewidth\": 0, \"ticks\": \"\"}, \"colorscale\": [[0.0, \"#0d0887\"], [0.1111111111111111, \"#46039f\"], [0.2222222222222222, \"#7201a8\"], [0.3333333333333333, \"#9c179e\"], [0.4444444444444444, \"#bd3786\"], [0.5555555555555556, \"#d8576b\"], [0.6666666666666666, \"#ed7953\"], [0.7777777777777778, \"#fb9f3a\"], [0.8888888888888888, \"#fdca26\"], [1.0, \"#f0f921\"]], \"type\": \"contour\"}], \"contourcarpet\": [{\"colorbar\": {\"outlinewidth\": 0, \"ticks\": \"\"}, \"type\": \"contourcarpet\"}], \"heatmap\": [{\"colorbar\": {\"outlinewidth\": 0, \"ticks\": \"\"}, \"colorscale\": [[0.0, \"#0d0887\"], [0.1111111111111111, \"#46039f\"], [0.2222222222222222, \"#7201a8\"], [0.3333333333333333, \"#9c179e\"], [0.4444444444444444, \"#bd3786\"], [0.5555555555555556, \"#d8576b\"], [0.6666666666666666, \"#ed7953\"], [0.7777777777777778, \"#fb9f3a\"], [0.8888888888888888, \"#fdca26\"], [1.0, \"#f0f921\"]], \"type\": \"heatmap\"}], \"heatmapgl\": [{\"colorbar\": {\"outlinewidth\": 0, \"ticks\": \"\"}, \"colorscale\": [[0.0, \"#0d0887\"], [0.1111111111111111, \"#46039f\"], [0.2222222222222222, \"#7201a8\"], [0.3333333333333333, \"#9c179e\"], [0.4444444444444444, \"#bd3786\"], [0.5555555555555556, \"#d8576b\"], [0.6666666666666666, \"#ed7953\"], [0.7777777777777778, \"#fb9f3a\"], [0.8888888888888888, \"#fdca26\"], [1.0, \"#f0f921\"]], \"type\": \"heatmapgl\"}], \"histogram\": [{\"marker\": {\"colorbar\": {\"outlinewidth\": 0, \"ticks\": \"\"}}, \"type\": \"histogram\"}], \"histogram2d\": [{\"colorbar\": {\"outlinewidth\": 0, \"ticks\": \"\"}, \"colorscale\": [[0.0, \"#0d0887\"], [0.1111111111111111, \"#46039f\"], [0.2222222222222222, \"#7201a8\"], [0.3333333333333333, \"#9c179e\"], [0.4444444444444444, \"#bd3786\"], [0.5555555555555556, \"#d8576b\"], [0.6666666666666666, \"#ed7953\"], [0.7777777777777778, \"#fb9f3a\"], [0.8888888888888888, \"#fdca26\"], [1.0, \"#f0f921\"]], \"type\": \"histogram2d\"}], \"histogram2dcontour\": [{\"colorbar\": {\"outlinewidth\": 0, \"ticks\": \"\"}, \"colorscale\": [[0.0, \"#0d0887\"], [0.1111111111111111, \"#46039f\"], [0.2222222222222222, \"#7201a8\"], [0.3333333333333333, \"#9c179e\"], [0.4444444444444444, \"#bd3786\"], [0.5555555555555556, \"#d8576b\"], [0.6666666666666666, \"#ed7953\"], [0.7777777777777778, \"#fb9f3a\"], [0.8888888888888888, \"#fdca26\"], [1.0, \"#f0f921\"]], \"type\": \"histogram2dcontour\"}], \"mesh3d\": [{\"colorbar\": {\"outlinewidth\": 0, \"ticks\": \"\"}, \"type\": \"mesh3d\"}], \"parcoords\": [{\"line\": {\"colorbar\": {\"outlinewidth\": 0, \"ticks\": \"\"}}, \"type\": \"parcoords\"}], \"pie\": [{\"automargin\": true, \"type\": \"pie\"}], \"scatter\": [{\"marker\": {\"colorbar\": {\"outlinewidth\": 0, \"ticks\": \"\"}}, \"type\": \"scatter\"}], \"scatter3d\": [{\"line\": {\"colorbar\": {\"outlinewidth\": 0, \"ticks\": \"\"}}, \"marker\": {\"colorbar\": {\"outlinewidth\": 0, \"ticks\": \"\"}}, \"type\": \"scatter3d\"}], \"scattercarpet\": [{\"marker\": {\"colorbar\": {\"outlinewidth\": 0, \"ticks\": \"\"}}, \"type\": \"scattercarpet\"}], \"scattergeo\": [{\"marker\": {\"colorbar\": {\"outlinewidth\": 0, \"ticks\": \"\"}}, \"type\": \"scattergeo\"}], \"scattergl\": [{\"marker\": {\"colorbar\": {\"outlinewidth\": 0, \"ticks\": \"\"}}, \"type\": \"scattergl\"}], \"scattermapbox\": [{\"marker\": {\"colorbar\": {\"outlinewidth\": 0, \"ticks\": \"\"}}, \"type\": \"scattermapbox\"}], \"scatterpolar\": [{\"marker\": {\"colorbar\": {\"outlinewidth\": 0, \"ticks\": \"\"}}, \"type\": \"scatterpolar\"}], \"scatterpolargl\": [{\"marker\": {\"colorbar\": {\"outlinewidth\": 0, \"ticks\": \"\"}}, \"type\": \"scatterpolargl\"}], \"scatterternary\": [{\"marker\": {\"colorbar\": {\"outlinewidth\": 0, \"ticks\": \"\"}}, \"type\": \"scatterternary\"}], \"surface\": [{\"colorbar\": {\"outlinewidth\": 0, \"ticks\": \"\"}, \"colorscale\": [[0.0, \"#0d0887\"], [0.1111111111111111, \"#46039f\"], [0.2222222222222222, \"#7201a8\"], [0.3333333333333333, \"#9c179e\"], [0.4444444444444444, \"#bd3786\"], [0.5555555555555556, \"#d8576b\"], [0.6666666666666666, \"#ed7953\"], [0.7777777777777778, \"#fb9f3a\"], [0.8888888888888888, \"#fdca26\"], [1.0, \"#f0f921\"]], \"type\": \"surface\"}], \"table\": [{\"cells\": {\"fill\": {\"color\": \"#EBF0F8\"}, \"line\": {\"color\": \"white\"}}, \"header\": {\"fill\": {\"color\": \"#C8D4E3\"}, \"line\": {\"color\": \"white\"}}, \"type\": \"table\"}]}, \"layout\": {\"annotationdefaults\": {\"arrowcolor\": \"#2a3f5f\", \"arrowhead\": 0, \"arrowwidth\": 1}, \"coloraxis\": {\"colorbar\": {\"outlinewidth\": 0, \"ticks\": \"\"}}, \"colorscale\": {\"diverging\": [[0, \"#8e0152\"], [0.1, \"#c51b7d\"], [0.2, \"#de77ae\"], [0.3, \"#f1b6da\"], [0.4, \"#fde0ef\"], [0.5, \"#f7f7f7\"], [0.6, \"#e6f5d0\"], [0.7, \"#b8e186\"], [0.8, \"#7fbc41\"], [0.9, \"#4d9221\"], [1, \"#276419\"]], \"sequential\": [[0.0, \"#0d0887\"], [0.1111111111111111, \"#46039f\"], [0.2222222222222222, \"#7201a8\"], [0.3333333333333333, \"#9c179e\"], [0.4444444444444444, \"#bd3786\"], [0.5555555555555556, \"#d8576b\"], [0.6666666666666666, \"#ed7953\"], [0.7777777777777778, \"#fb9f3a\"], [0.8888888888888888, \"#fdca26\"], [1.0, \"#f0f921\"]], \"sequentialminus\": [[0.0, \"#0d0887\"], [0.1111111111111111, \"#46039f\"], [0.2222222222222222, \"#7201a8\"], [0.3333333333333333, \"#9c179e\"], [0.4444444444444444, \"#bd3786\"], [0.5555555555555556, \"#d8576b\"], [0.6666666666666666, \"#ed7953\"], [0.7777777777777778, \"#fb9f3a\"], [0.8888888888888888, \"#fdca26\"], [1.0, \"#f0f921\"]]}, \"colorway\": [\"#636efa\", \"#EF553B\", \"#00cc96\", \"#ab63fa\", \"#FFA15A\", \"#19d3f3\", \"#FF6692\", \"#B6E880\", \"#FF97FF\", \"#FECB52\"], \"font\": {\"color\": \"#2a3f5f\"}, \"geo\": {\"bgcolor\": \"white\", \"lakecolor\": \"white\", \"landcolor\": \"#E5ECF6\", \"showlakes\": true, \"showland\": true, \"subunitcolor\": \"white\"}, \"hoverlabel\": {\"align\": \"left\"}, \"hovermode\": \"closest\", \"mapbox\": {\"style\": \"light\"}, \"paper_bgcolor\": \"white\", \"plot_bgcolor\": \"#E5ECF6\", \"polar\": {\"angularaxis\": {\"gridcolor\": \"white\", \"linecolor\": \"white\", \"ticks\": \"\"}, \"bgcolor\": \"#E5ECF6\", \"radialaxis\": {\"gridcolor\": \"white\", \"linecolor\": \"white\", \"ticks\": \"\"}}, \"scene\": {\"xaxis\": {\"backgroundcolor\": \"#E5ECF6\", \"gridcolor\": \"white\", \"gridwidth\": 2, \"linecolor\": \"white\", \"showbackground\": true, \"ticks\": \"\", \"zerolinecolor\": \"white\"}, \"yaxis\": {\"backgroundcolor\": \"#E5ECF6\", \"gridcolor\": \"white\", \"gridwidth\": 2, \"linecolor\": \"white\", \"showbackground\": true, \"ticks\": \"\", \"zerolinecolor\": \"white\"}, \"zaxis\": {\"backgroundcolor\": \"#E5ECF6\", \"gridcolor\": \"white\", \"gridwidth\": 2, \"linecolor\": \"white\", \"showbackground\": true, \"ticks\": \"\", \"zerolinecolor\": \"white\"}}, \"shapedefaults\": {\"line\": {\"color\": \"#2a3f5f\"}}, \"ternary\": {\"aaxis\": {\"gridcolor\": \"white\", \"linecolor\": \"white\", \"ticks\": \"\"}, \"baxis\": {\"gridcolor\": \"white\", \"linecolor\": \"white\", \"ticks\": \"\"}, \"bgcolor\": \"#E5ECF6\", \"caxis\": {\"gridcolor\": \"white\", \"linecolor\": \"white\", \"ticks\": \"\"}}, \"title\": {\"x\": 0.05}, \"xaxis\": {\"automargin\": true, \"gridcolor\": \"white\", \"linecolor\": \"white\", \"ticks\": \"\", \"title\": {\"standoff\": 15}, \"zerolinecolor\": \"white\", \"zerolinewidth\": 2}, \"yaxis\": {\"automargin\": true, \"gridcolor\": \"white\", \"linecolor\": \"white\", \"ticks\": \"\", \"title\": {\"standoff\": 15}, \"zerolinecolor\": \"white\", \"zerolinewidth\": 2}}}},\n",
              "                        {\"responsive\": true}\n",
              "                    ).then(function(){\n",
              "                            \n",
              "var gd = document.getElementById('e56f6437-26f9-4037-9612-225af44e4229');\n",
              "var x = new MutationObserver(function (mutations, observer) {{\n",
              "        var display = window.getComputedStyle(gd).display;\n",
              "        if (!display || display === 'none') {{\n",
              "            console.log([gd, 'removed!']);\n",
              "            Plotly.purge(gd);\n",
              "            observer.disconnect();\n",
              "        }}\n",
              "}});\n",
              "\n",
              "// Listen for the removal of the full notebook cells\n",
              "var notebookContainer = gd.closest('#notebook-container');\n",
              "if (notebookContainer) {{\n",
              "    x.observe(notebookContainer, {childList: true});\n",
              "}}\n",
              "\n",
              "// Listen for the clearing of the current output cell\n",
              "var outputEl = gd.closest('.output');\n",
              "if (outputEl) {{\n",
              "    x.observe(outputEl, {childList: true});\n",
              "}}\n",
              "\n",
              "                        })\n",
              "                };\n",
              "                \n",
              "            </script>\n",
              "        </div>\n",
              "</body>\n",
              "</html>"
            ]
          },
          "metadata": {
            "tags": []
          }
        }
      ]
    },
    {
      "cell_type": "code",
      "metadata": {
        "id": "-vhcmmlqJqA6"
      },
      "source": [
        "group1_mean = np.array(group1).mean()\n",
        "group2_mean = np.array(group2).mean()\n",
        "group3_mean = np.array(group3).mean()"
      ],
      "execution_count": null,
      "outputs": []
    },
    {
      "cell_type": "code",
      "metadata": {
        "id": "RjbzJQOyJvQX"
      },
      "source": [
        "group_means = [group1_mean, group2_mean, group3_mean]\n",
        "grand_mean = np.array(group_means).mean()"
      ],
      "execution_count": null,
      "outputs": []
    },
    {
      "cell_type": "code",
      "metadata": {
        "colab": {
          "base_uri": "https://localhost:8080/"
        },
        "id": "uc5JF8tmJ32Z",
        "outputId": "c4f46af2-8e43-4a06-b08c-3c1a135019cf"
      },
      "source": [
        "k = len(group_means)\n",
        "n = len(group1)\n",
        "N = n * k\n",
        "for i in group_means:\n",
        "    print('Group mean ', i)\n",
        "print(\"k = \"+ str(k))\n",
        "print(\"n = \"+ str(n))\n",
        "print(\"N = \" + str(N))\n",
        "grand_mean"
      ],
      "execution_count": null,
      "outputs": [
        {
          "output_type": "stream",
          "text": [
            "Group mean  28.2\n",
            "Group mean  32.0\n",
            "Group mean  24.8\n",
            "k = 3\n",
            "n = 5\n",
            "N = 15\n"
          ],
          "name": "stdout"
        },
        {
          "output_type": "execute_result",
          "data": {
            "text/plain": [
              "28.333333333333332"
            ]
          },
          "metadata": {
            "tags": []
          },
          "execution_count": 9
        }
      ]
    },
    {
      "cell_type": "markdown",
      "metadata": {
        "id": "cvJJGoTKKHKf"
      },
      "source": [
        "Sum of Squares of treatments(SST) \n",
        "It measures the variation of group means around the grand mean.\n",
        "We will calculate the SST of our data in the cell below"
      ]
    },
    {
      "cell_type": "code",
      "metadata": {
        "colab": {
          "base_uri": "https://localhost:8080/"
        },
        "id": "chkiOgtxJ9Bj",
        "outputId": "6d4109df-a3e1-43f0-af9c-1ff2412a392c"
      },
      "source": [
        "def find_SST(group_means):\n",
        "    sst_list = []\n",
        "    for i in group_means:\n",
        "            val = n*(i - grand_mean)**2\n",
        "            sst_list.append(val)\n",
        "    SST = sum(sst_list)\n",
        "    return(SST)    \n",
        "SST = find_SST(group_means)\n",
        "SST"
      ],
      "execution_count": null,
      "outputs": [
        {
          "output_type": "execute_result",
          "data": {
            "text/plain": [
              "129.73333333333332"
            ]
          },
          "metadata": {
            "tags": []
          },
          "execution_count": 10
        }
      ]
    },
    {
      "cell_type": "markdown",
      "metadata": {
        "id": "F8clF8sWKejE"
      },
      "source": [
        "Residual Sum of Squares(SSE) measures variation of all scores around their respective group means."
      ]
    },
    {
      "cell_type": "code",
      "metadata": {
        "colab": {
          "base_uri": "https://localhost:8080/"
        },
        "id": "CFoIXHPtKO8-",
        "outputId": "f9113f58-56e3-4207-f703-f152a71ff9a1"
      },
      "source": [
        "from statistics import mean\n",
        "def find_SSR(list1, list2, list3):\n",
        "    residual_list = []\n",
        "    for i in list1:\n",
        "        res = (i - mean(list1))**2\n",
        "        residual_list.append(res)\n",
        "    for j in list2:\n",
        "        res2 = (j-mean(list2))**2\n",
        "        residual_list.append(res2)\n",
        "    for k in list3:\n",
        "        res3 = (k - mean(list3))**2\n",
        "        residual_list.append(res3)\n",
        "    return sum(residual_list)\n",
        "SSR = find_SSR(group1, group2, group3)\n",
        "SSR"
      ],
      "execution_count": null,
      "outputs": [
        {
          "output_type": "execute_result",
          "data": {
            "text/plain": [
              "19.599999999999998"
            ]
          },
          "metadata": {
            "tags": []
          },
          "execution_count": 13
        }
      ]
    },
    {
      "cell_type": "markdown",
      "metadata": {
        "id": "AWbmhV1tK6cO"
      },
      "source": [
        "Total sum of squares (TSS) measures variation of all scores around the grand mean"
      ]
    },
    {
      "cell_type": "code",
      "metadata": {
        "colab": {
          "base_uri": "https://localhost:8080/"
        },
        "id": "yEMcEmUVKrgs",
        "outputId": "02300ca0-901d-47c4-c010-f9ca0d2ed7c4"
      },
      "source": [
        "def find_TSS(list1, list2, list3):\n",
        "    residual_list = []\n",
        "    for i in list1:\n",
        "        res1 = (i - grand_mean)**2\n",
        "        residual_list.append(res1)\n",
        "    for j in list2:\n",
        "        res2 = (j - grand_mean)**2\n",
        "        residual_list.append(res2)\n",
        "    for k in list3:\n",
        "        res3 =(k - grand_mean)**2\n",
        "        residual_list.append(res3)\n",
        "    \n",
        "    return sum(residual_list)\n",
        "TSS = find_TSS(group1, group2, group3)\n",
        "TSS"
      ],
      "execution_count": null,
      "outputs": [
        {
          "output_type": "execute_result",
          "data": {
            "text/plain": [
              "149.33333333333334"
            ]
          },
          "metadata": {
            "tags": []
          },
          "execution_count": 15
        }
      ]
    },
    {
      "cell_type": "markdown",
      "metadata": {
        "id": "yCIbHnToLXkF"
      },
      "source": [
        "Treatment Mean of Squares(MST), is the average between variation. SST/(k-1)"
      ]
    },
    {
      "cell_type": "code",
      "metadata": {
        "colab": {
          "base_uri": "https://localhost:8080/"
        },
        "id": "4WdDK9VlLJAG",
        "outputId": "05d8cb7c-ff32-4c62-b1ea-68854b671af6"
      },
      "source": [
        "def find_MST(SST):\n",
        "    MST = SST/(k-1)\n",
        "    return MST\n",
        "MST = find_MST(SST)\n",
        "MST"
      ],
      "execution_count": null,
      "outputs": [
        {
          "output_type": "execute_result",
          "data": {
            "text/plain": [
              "64.86666666666666"
            ]
          },
          "metadata": {
            "tags": []
          },
          "execution_count": 16
        }
      ]
    },
    {
      "cell_type": "markdown",
      "metadata": {
        "id": "-H1iHgdJLfZy"
      },
      "source": [
        "Error Mean Square(MSE); The average within variation. SSE/(N-k)"
      ]
    },
    {
      "cell_type": "code",
      "metadata": {
        "colab": {
          "base_uri": "https://localhost:8080/"
        },
        "id": "CeSraY6sLeN2",
        "outputId": "0ea9c0cd-b838-4c33-c892-a4049ec04ee9"
      },
      "source": [
        "def find_MSE(SSR):\n",
        "    MSE = SSR/(N-k)\n",
        "    return MSE\n",
        "MSE = find_MSE(SSR)\n",
        "MSE"
      ],
      "execution_count": null,
      "outputs": [
        {
          "output_type": "execute_result",
          "data": {
            "text/plain": [
              "1.633333333333333"
            ]
          },
          "metadata": {
            "tags": []
          },
          "execution_count": 19
        }
      ]
    },
    {
      "cell_type": "markdown",
      "metadata": {
        "id": "1A4zIV7HMSE9"
      },
      "source": [
        "Calculate F value to compare against critical value. Decision rule: if Fcal > Ftab reject Ho.\n",
        "Ftab at 0.05 level of significance = F0.05,(k-1),(N-k)"
      ]
    },
    {
      "cell_type": "code",
      "metadata": {
        "colab": {
          "base_uri": "https://localhost:8080/"
        },
        "id": "9QbWwxqWMIJS",
        "outputId": "c758db16-323c-4acd-df8a-6758a61196c1"
      },
      "source": [
        "F = MST/MSE\n",
        "F"
      ],
      "execution_count": null,
      "outputs": [
        {
          "output_type": "execute_result",
          "data": {
            "text/plain": [
              "39.714285714285715"
            ]
          },
          "metadata": {
            "tags": []
          },
          "execution_count": 20
        }
      ]
    },
    {
      "cell_type": "code",
      "metadata": {
        "id": "v2pcekaWMZ5t"
      },
      "source": [
        ""
      ],
      "execution_count": null,
      "outputs": []
    }
  ]
}